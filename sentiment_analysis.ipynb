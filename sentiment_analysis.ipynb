{
 "cells": [
  {
   "cell_type": "code",
   "execution_count": null,
   "metadata": {},
   "outputs": [],
   "source": [
    "import pandas as pd\n",
    "from sklearn.feature_extraction.text import TfidfVectorizer"
   ]
  },
  {
   "cell_type": "code",
   "execution_count": null,
   "metadata": {},
   "outputs": [],
   "source": [
    "df = pd.read_csv('reviews.csv')\n",
    "df.head()"
   ]
  },
  {
   "cell_type": "markdown",
   "metadata": {},
   "source": [
    "### step 1:\n",
    "Converting raw text into a TF-IDF matrix."
   ]
  },
  {
   "cell_type": "code",
   "execution_count": 5,
   "metadata": {},
   "outputs": [],
   "source": [
    "vectorizer = TfidfVectorizer()\n",
    "x = vectorizer.fit_transform(df['Review'])\n"
   ]
  },
  {
   "cell_type": "code",
   "execution_count": 6,
   "metadata": {},
   "outputs": [
    {
     "name": "stdout",
     "output_type": "stream",
     "text": [
      "[[0.         0.         0.         ... 0.         0.         0.        ]\n",
      " [0.         0.         0.         ... 0.         0.         0.        ]\n",
      " [0.         0.         0.25836133 ... 0.         0.         0.        ]\n",
      " ...\n",
      " [0.         0.         0.         ... 0.         0.         0.        ]\n",
      " [0.         0.         0.         ... 0.         0.         0.        ]\n",
      " [0.         0.         0.         ... 0.         0.         0.        ]]\n"
     ]
    },
    {
     "data": {
      "text/plain": [
       "(85, 537)"
      ]
     },
     "execution_count": 6,
     "metadata": {},
     "output_type": "execute_result"
    }
   ],
   "source": [
    "print(x.toarray())\n",
    "x.shape"
   ]
  },
  {
   "cell_type": "code",
   "execution_count": 7,
   "metadata": {},
   "outputs": [
    {
     "data": {
      "text/html": [
       "<div>\n",
       "<style scoped>\n",
       "    .dataframe tbody tr th:only-of-type {\n",
       "        vertical-align: middle;\n",
       "    }\n",
       "\n",
       "    .dataframe tbody tr th {\n",
       "        vertical-align: top;\n",
       "    }\n",
       "\n",
       "    .dataframe thead th {\n",
       "        text-align: right;\n",
       "    }\n",
       "</style>\n",
       "<table border=\"1\" class=\"dataframe\">\n",
       "  <thead>\n",
       "    <tr style=\"text-align: right;\">\n",
       "      <th></th>\n",
       "      <th>10</th>\n",
       "      <th>2017</th>\n",
       "      <th>2nd</th>\n",
       "      <th>50k</th>\n",
       "      <th>55</th>\n",
       "      <th>55k</th>\n",
       "      <th>60k</th>\n",
       "      <th>90</th>\n",
       "      <th>able</th>\n",
       "      <th>abnormal</th>\n",
       "      <th>...</th>\n",
       "      <th>works</th>\n",
       "      <th>world</th>\n",
       "      <th>worst</th>\n",
       "      <th>worth</th>\n",
       "      <th>worthy</th>\n",
       "      <th>would</th>\n",
       "      <th>wrking</th>\n",
       "      <th>yes</th>\n",
       "      <th>you</th>\n",
       "      <th>your</th>\n",
       "    </tr>\n",
       "  </thead>\n",
       "  <tbody>\n",
       "    <tr>\n",
       "      <th>0</th>\n",
       "      <td>0.0</td>\n",
       "      <td>0.0</td>\n",
       "      <td>0.000000</td>\n",
       "      <td>0.0</td>\n",
       "      <td>0.000000</td>\n",
       "      <td>0.0</td>\n",
       "      <td>0.000000</td>\n",
       "      <td>0.0</td>\n",
       "      <td>0.0</td>\n",
       "      <td>0.0</td>\n",
       "      <td>...</td>\n",
       "      <td>0.0</td>\n",
       "      <td>0.0</td>\n",
       "      <td>0.0</td>\n",
       "      <td>0.0</td>\n",
       "      <td>0.0</td>\n",
       "      <td>0.0</td>\n",
       "      <td>0.0</td>\n",
       "      <td>0.0</td>\n",
       "      <td>0.0</td>\n",
       "      <td>0.0</td>\n",
       "    </tr>\n",
       "    <tr>\n",
       "      <th>1</th>\n",
       "      <td>0.0</td>\n",
       "      <td>0.0</td>\n",
       "      <td>0.000000</td>\n",
       "      <td>0.0</td>\n",
       "      <td>0.000000</td>\n",
       "      <td>0.0</td>\n",
       "      <td>0.000000</td>\n",
       "      <td>0.0</td>\n",
       "      <td>0.0</td>\n",
       "      <td>0.0</td>\n",
       "      <td>...</td>\n",
       "      <td>0.0</td>\n",
       "      <td>0.0</td>\n",
       "      <td>0.0</td>\n",
       "      <td>0.0</td>\n",
       "      <td>0.0</td>\n",
       "      <td>0.0</td>\n",
       "      <td>0.0</td>\n",
       "      <td>0.0</td>\n",
       "      <td>0.0</td>\n",
       "      <td>0.0</td>\n",
       "    </tr>\n",
       "    <tr>\n",
       "      <th>2</th>\n",
       "      <td>0.0</td>\n",
       "      <td>0.0</td>\n",
       "      <td>0.258361</td>\n",
       "      <td>0.0</td>\n",
       "      <td>0.000000</td>\n",
       "      <td>0.0</td>\n",
       "      <td>0.000000</td>\n",
       "      <td>0.0</td>\n",
       "      <td>0.0</td>\n",
       "      <td>0.0</td>\n",
       "      <td>...</td>\n",
       "      <td>0.0</td>\n",
       "      <td>0.0</td>\n",
       "      <td>0.0</td>\n",
       "      <td>0.0</td>\n",
       "      <td>0.0</td>\n",
       "      <td>0.0</td>\n",
       "      <td>0.0</td>\n",
       "      <td>0.0</td>\n",
       "      <td>0.0</td>\n",
       "      <td>0.0</td>\n",
       "    </tr>\n",
       "    <tr>\n",
       "      <th>3</th>\n",
       "      <td>0.0</td>\n",
       "      <td>0.0</td>\n",
       "      <td>0.000000</td>\n",
       "      <td>0.0</td>\n",
       "      <td>0.420583</td>\n",
       "      <td>0.0</td>\n",
       "      <td>0.420583</td>\n",
       "      <td>0.0</td>\n",
       "      <td>0.0</td>\n",
       "      <td>0.0</td>\n",
       "      <td>...</td>\n",
       "      <td>0.0</td>\n",
       "      <td>0.0</td>\n",
       "      <td>0.0</td>\n",
       "      <td>0.0</td>\n",
       "      <td>0.0</td>\n",
       "      <td>0.0</td>\n",
       "      <td>0.0</td>\n",
       "      <td>0.0</td>\n",
       "      <td>0.0</td>\n",
       "      <td>0.0</td>\n",
       "    </tr>\n",
       "    <tr>\n",
       "      <th>4</th>\n",
       "      <td>0.0</td>\n",
       "      <td>0.0</td>\n",
       "      <td>0.000000</td>\n",
       "      <td>0.0</td>\n",
       "      <td>0.000000</td>\n",
       "      <td>0.0</td>\n",
       "      <td>0.000000</td>\n",
       "      <td>0.0</td>\n",
       "      <td>0.0</td>\n",
       "      <td>0.0</td>\n",
       "      <td>...</td>\n",
       "      <td>0.0</td>\n",
       "      <td>0.0</td>\n",
       "      <td>0.0</td>\n",
       "      <td>0.0</td>\n",
       "      <td>0.0</td>\n",
       "      <td>0.0</td>\n",
       "      <td>0.0</td>\n",
       "      <td>0.0</td>\n",
       "      <td>0.0</td>\n",
       "      <td>0.0</td>\n",
       "    </tr>\n",
       "  </tbody>\n",
       "</table>\n",
       "<p>5 rows × 537 columns</p>\n",
       "</div>"
      ],
      "text/plain": [
       "    10  2017       2nd  50k        55  55k       60k   90  able  abnormal  \\\n",
       "0  0.0   0.0  0.000000  0.0  0.000000  0.0  0.000000  0.0   0.0       0.0   \n",
       "1  0.0   0.0  0.000000  0.0  0.000000  0.0  0.000000  0.0   0.0       0.0   \n",
       "2  0.0   0.0  0.258361  0.0  0.000000  0.0  0.000000  0.0   0.0       0.0   \n",
       "3  0.0   0.0  0.000000  0.0  0.420583  0.0  0.420583  0.0   0.0       0.0   \n",
       "4  0.0   0.0  0.000000  0.0  0.000000  0.0  0.000000  0.0   0.0       0.0   \n",
       "\n",
       "   ...  works  world  worst  worth  worthy  would  wrking  yes  you  your  \n",
       "0  ...    0.0    0.0    0.0    0.0     0.0    0.0     0.0  0.0  0.0   0.0  \n",
       "1  ...    0.0    0.0    0.0    0.0     0.0    0.0     0.0  0.0  0.0   0.0  \n",
       "2  ...    0.0    0.0    0.0    0.0     0.0    0.0     0.0  0.0  0.0   0.0  \n",
       "3  ...    0.0    0.0    0.0    0.0     0.0    0.0     0.0  0.0  0.0   0.0  \n",
       "4  ...    0.0    0.0    0.0    0.0     0.0    0.0     0.0  0.0  0.0   0.0  \n",
       "\n",
       "[5 rows x 537 columns]"
      ]
     },
     "execution_count": 7,
     "metadata": {},
     "output_type": "execute_result"
    }
   ],
   "source": [
    "df_data = pd.DataFrame(x.toarray(), columns= vectorizer.get_feature_names_out())\n",
    "df_data.head()"
   ]
  },
  {
   "cell_type": "markdown",
   "metadata": {},
   "source": [
    "### Step 2:\n",
    "Computing sentiment score for each review and creating a feature from the score."
   ]
  },
  {
   "cell_type": "code",
   "execution_count": 8,
   "metadata": {},
   "outputs": [],
   "source": [
    "from textblob import TextBlob"
   ]
  },
  {
   "cell_type": "code",
   "execution_count": 9,
   "metadata": {},
   "outputs": [],
   "source": [
    "df['sentiment'] = df['Review'].apply(lambda review: TextBlob(review).sentiment.polarity)"
   ]
  },
  {
   "cell_type": "code",
   "execution_count": 10,
   "metadata": {},
   "outputs": [
    {
     "data": {
      "text/html": [
       "<div>\n",
       "<style scoped>\n",
       "    .dataframe tbody tr th:only-of-type {\n",
       "        vertical-align: middle;\n",
       "    }\n",
       "\n",
       "    .dataframe tbody tr th {\n",
       "        vertical-align: top;\n",
       "    }\n",
       "\n",
       "    .dataframe thead th {\n",
       "        text-align: right;\n",
       "    }\n",
       "</style>\n",
       "<table border=\"1\" class=\"dataframe\">\n",
       "  <thead>\n",
       "    <tr style=\"text-align: right;\">\n",
       "      <th></th>\n",
       "      <th>ProductID</th>\n",
       "      <th>ReviewID</th>\n",
       "      <th>Review</th>\n",
       "      <th>sentiment</th>\n",
       "    </tr>\n",
       "  </thead>\n",
       "  <tbody>\n",
       "    <tr>\n",
       "      <th>0</th>\n",
       "      <td>HT-1000</td>\n",
       "      <td>100000000</td>\n",
       "      <td>Three start. I have some issues like some keys...</td>\n",
       "      <td>-0.025000</td>\n",
       "    </tr>\n",
       "    <tr>\n",
       "      <th>1</th>\n",
       "      <td>HT-1001</td>\n",
       "      <td>100000001</td>\n",
       "      <td>Heating and not wake up. Check twice when buy ...</td>\n",
       "      <td>0.000000</td>\n",
       "    </tr>\n",
       "    <tr>\n",
       "      <th>2</th>\n",
       "      <td>HT-1002</td>\n",
       "      <td>100000002</td>\n",
       "      <td>2nd hand laptops!!! The laptop I received alre...</td>\n",
       "      <td>-0.042614</td>\n",
       "    </tr>\n",
       "    <tr>\n",
       "      <th>3</th>\n",
       "      <td>HT-1003</td>\n",
       "      <td>100000003</td>\n",
       "      <td>Review: BEST LAPTOP IN A PRICE SEGMENT OF Rs 5...</td>\n",
       "      <td>1.000000</td>\n",
       "    </tr>\n",
       "    <tr>\n",
       "      <th>4</th>\n",
       "      <td>HT-1010</td>\n",
       "      <td>100000004</td>\n",
       "      <td>Review: second hand product. don't buy this. I...</td>\n",
       "      <td>0.000000</td>\n",
       "    </tr>\n",
       "  </tbody>\n",
       "</table>\n",
       "</div>"
      ],
      "text/plain": [
       "  ProductID   ReviewID                                             Review  \\\n",
       "0   HT-1000  100000000  Three start. I have some issues like some keys...   \n",
       "1   HT-1001  100000001  Heating and not wake up. Check twice when buy ...   \n",
       "2   HT-1002  100000002  2nd hand laptops!!! The laptop I received alre...   \n",
       "3   HT-1003  100000003  Review: BEST LAPTOP IN A PRICE SEGMENT OF Rs 5...   \n",
       "4   HT-1010  100000004  Review: second hand product. don't buy this. I...   \n",
       "\n",
       "   sentiment  \n",
       "0  -0.025000  \n",
       "1   0.000000  \n",
       "2  -0.042614  \n",
       "3   1.000000  \n",
       "4   0.000000  "
      ]
     },
     "execution_count": 10,
     "metadata": {},
     "output_type": "execute_result"
    }
   ],
   "source": [
    "df.head()"
   ]
  },
  {
   "cell_type": "code",
   "execution_count": 11,
   "metadata": {},
   "outputs": [
    {
     "name": "stdout",
     "output_type": "stream",
     "text": [
      "          ProductID   ReviewID  \\\n",
      "sentiment                        \n",
      "-1.0000     HT-1007  100000027   \n",
      "-0.9550     HT-1020  100000005   \n",
      "-0.7000     HT-1030  100000016   \n",
      "-0.7000     HT-1010  100000014   \n",
      "-0.6350     HT-1001  100000021   \n",
      "...             ...        ...   \n",
      " 0.8275     HT-1010  100000024   \n",
      " 0.8500     HT-1050  100000044   \n",
      " 0.8700     HT-1007  100000042   \n",
      " 0.9000     HT-1000  100000020   \n",
      " 1.0000     HT-1003  100000003   \n",
      "\n",
      "                                                      Review  \n",
      "sentiment                                                     \n",
      "-1.0000    Review: Worst laptop ever not for student use ...  \n",
      "-0.9550    Review: very bad. My product is not working wh...  \n",
      "-0.7000    Review: It’s been just 2 months and the device...  \n",
      "-0.7000    Review:  have had extremely bad experiences wi...  \n",
      "-0.6350    Review: very poor. disappointed. Defective pro...  \n",
      "...                                                      ...  \n",
      " 0.8275    Review: Very good and light weight laptop. Thi...  \n",
      " 0.8500    Review: There is no comparison for apple produ...  \n",
      " 0.8700    Review: Very good product. Perfectly packed & ...  \n",
      " 0.9000    Review: Best rate got from market value for mo...  \n",
      " 1.0000    Review: BEST LAPTOP IN A PRICE SEGMENT OF Rs 5...  \n",
      "\n",
      "[66 rows x 3 columns]\n"
     ]
    }
   ],
   "source": [
    "print(df.groupby('sentiment').first())"
   ]
  },
  {
   "cell_type": "code",
   "execution_count": 12,
   "metadata": {},
   "outputs": [],
   "source": [
    "sentiment_result = []\n",
    "for i in range(len(df['sentiment'])):\n",
    "    if (df['sentiment'][i]>=-1) & (df['sentiment'][i]<=-0.8):\n",
    "        sentiment_result.append('Terrible')\n",
    "    elif (df['sentiment'][i]>-0.8) & (df['sentiment'][i]<=-0.3):\n",
    "        sentiment_result.append('Bad')\n",
    "    elif (df['sentiment'][i]>-0.3) & (df['sentiment'][i]<=0.3):\n",
    "        sentiment_result.append('Neutral')\n",
    "    elif (df['sentiment'][i]>0.3) & (df['sentiment'][i]<0.8):\n",
    "        sentiment_result.append('Good')\n",
    "    elif (df['sentiment'][i]>=0.8) & (df['sentiment'][i]<=1):\n",
    "        sentiment_result.append('Excellent')\n",
    "\n",
    "df['sentiment_result'] = sentiment_result"
   ]
  },
  {
   "cell_type": "code",
   "execution_count": 13,
   "metadata": {},
   "outputs": [
    {
     "data": {
      "text/html": [
       "<div>\n",
       "<style scoped>\n",
       "    .dataframe tbody tr th:only-of-type {\n",
       "        vertical-align: middle;\n",
       "    }\n",
       "\n",
       "    .dataframe tbody tr th {\n",
       "        vertical-align: top;\n",
       "    }\n",
       "\n",
       "    .dataframe thead th {\n",
       "        text-align: right;\n",
       "    }\n",
       "</style>\n",
       "<table border=\"1\" class=\"dataframe\">\n",
       "  <thead>\n",
       "    <tr style=\"text-align: right;\">\n",
       "      <th></th>\n",
       "      <th>ProductID</th>\n",
       "      <th>ReviewID</th>\n",
       "      <th>Review</th>\n",
       "      <th>sentiment</th>\n",
       "      <th>sentiment_result</th>\n",
       "    </tr>\n",
       "  </thead>\n",
       "  <tbody>\n",
       "    <tr>\n",
       "      <th>0</th>\n",
       "      <td>HT-1000</td>\n",
       "      <td>100000000</td>\n",
       "      <td>Three start. I have some issues like some keys...</td>\n",
       "      <td>-0.025000</td>\n",
       "      <td>Neutral</td>\n",
       "    </tr>\n",
       "    <tr>\n",
       "      <th>1</th>\n",
       "      <td>HT-1001</td>\n",
       "      <td>100000001</td>\n",
       "      <td>Heating and not wake up. Check twice when buy ...</td>\n",
       "      <td>0.000000</td>\n",
       "      <td>Neutral</td>\n",
       "    </tr>\n",
       "    <tr>\n",
       "      <th>2</th>\n",
       "      <td>HT-1002</td>\n",
       "      <td>100000002</td>\n",
       "      <td>2nd hand laptops!!! The laptop I received alre...</td>\n",
       "      <td>-0.042614</td>\n",
       "      <td>Neutral</td>\n",
       "    </tr>\n",
       "    <tr>\n",
       "      <th>3</th>\n",
       "      <td>HT-1003</td>\n",
       "      <td>100000003</td>\n",
       "      <td>Review: BEST LAPTOP IN A PRICE SEGMENT OF Rs 5...</td>\n",
       "      <td>1.000000</td>\n",
       "      <td>Excellent</td>\n",
       "    </tr>\n",
       "    <tr>\n",
       "      <th>4</th>\n",
       "      <td>HT-1010</td>\n",
       "      <td>100000004</td>\n",
       "      <td>Review: second hand product. don't buy this. I...</td>\n",
       "      <td>0.000000</td>\n",
       "      <td>Neutral</td>\n",
       "    </tr>\n",
       "    <tr>\n",
       "      <th>...</th>\n",
       "      <td>...</td>\n",
       "      <td>...</td>\n",
       "      <td>...</td>\n",
       "      <td>...</td>\n",
       "      <td>...</td>\n",
       "    </tr>\n",
       "    <tr>\n",
       "      <th>80</th>\n",
       "      <td>HT-1020</td>\n",
       "      <td>100000035</td>\n",
       "      <td>Review: Good product. But we are not getting o...</td>\n",
       "      <td>0.700000</td>\n",
       "      <td>Good</td>\n",
       "    </tr>\n",
       "    <tr>\n",
       "      <th>81</th>\n",
       "      <td>HT-1030</td>\n",
       "      <td>100000036</td>\n",
       "      <td>Review: Finally a MacBook possession. Worth ev...</td>\n",
       "      <td>0.150000</td>\n",
       "      <td>Neutral</td>\n",
       "    </tr>\n",
       "    <tr>\n",
       "      <th>82</th>\n",
       "      <td>HT-1007</td>\n",
       "      <td>100000037</td>\n",
       "      <td>Review: Really good is and it is very smooth e...</td>\n",
       "      <td>0.673333</td>\n",
       "      <td>Good</td>\n",
       "    </tr>\n",
       "    <tr>\n",
       "      <th>83</th>\n",
       "      <td>HT-1040</td>\n",
       "      <td>100000038</td>\n",
       "      <td>Review: Amazing product by Apple and great del...</td>\n",
       "      <td>0.700000</td>\n",
       "      <td>Good</td>\n",
       "    </tr>\n",
       "    <tr>\n",
       "      <th>84</th>\n",
       "      <td>HT-1050</td>\n",
       "      <td>100000039</td>\n",
       "      <td>Review: Excellent product and good delivery tu...</td>\n",
       "      <td>0.850000</td>\n",
       "      <td>Excellent</td>\n",
       "    </tr>\n",
       "  </tbody>\n",
       "</table>\n",
       "<p>85 rows × 5 columns</p>\n",
       "</div>"
      ],
      "text/plain": [
       "   ProductID   ReviewID                                             Review  \\\n",
       "0    HT-1000  100000000  Three start. I have some issues like some keys...   \n",
       "1    HT-1001  100000001  Heating and not wake up. Check twice when buy ...   \n",
       "2    HT-1002  100000002  2nd hand laptops!!! The laptop I received alre...   \n",
       "3    HT-1003  100000003  Review: BEST LAPTOP IN A PRICE SEGMENT OF Rs 5...   \n",
       "4    HT-1010  100000004  Review: second hand product. don't buy this. I...   \n",
       "..       ...        ...                                                ...   \n",
       "80   HT-1020  100000035  Review: Good product. But we are not getting o...   \n",
       "81   HT-1030  100000036  Review: Finally a MacBook possession. Worth ev...   \n",
       "82   HT-1007  100000037  Review: Really good is and it is very smooth e...   \n",
       "83   HT-1040  100000038  Review: Amazing product by Apple and great del...   \n",
       "84   HT-1050  100000039  Review: Excellent product and good delivery tu...   \n",
       "\n",
       "    sentiment sentiment_result  \n",
       "0   -0.025000          Neutral  \n",
       "1    0.000000          Neutral  \n",
       "2   -0.042614          Neutral  \n",
       "3    1.000000        Excellent  \n",
       "4    0.000000          Neutral  \n",
       "..        ...              ...  \n",
       "80   0.700000             Good  \n",
       "81   0.150000          Neutral  \n",
       "82   0.673333             Good  \n",
       "83   0.700000             Good  \n",
       "84   0.850000        Excellent  \n",
       "\n",
       "[85 rows x 5 columns]"
      ]
     },
     "execution_count": 13,
     "metadata": {},
     "output_type": "execute_result"
    }
   ],
   "source": [
    "df"
   ]
  },
  {
   "cell_type": "markdown",
   "metadata": {},
   "source": [
    "### step 3:\n",
    "Creating features based on the presence of specific n-grams that are hypothesized to be strong indicators of positive or negative sentiment."
   ]
  },
  {
   "cell_type": "code",
   "execution_count": 14,
   "metadata": {},
   "outputs": [
    {
     "data": {
      "text/plain": [
       "0     Three start. I have some issues like some keys...\n",
       "1     Heating and not wake up. Check twice when buy ...\n",
       "2     2nd hand laptops!!! The laptop I received alre...\n",
       "3     Review: BEST LAPTOP IN A PRICE SEGMENT OF Rs 5...\n",
       "4     Review: second hand product. don't buy this. I...\n",
       "                            ...                        \n",
       "80    Review: Good product. But we are not getting o...\n",
       "81    Review: Finally a MacBook possession. Worth ev...\n",
       "82    Review: Really good is and it is very smooth e...\n",
       "83    Review: Amazing product by Apple and great del...\n",
       "84    Review: Excellent product and good delivery tu...\n",
       "Name: Review, Length: 85, dtype: object"
      ]
     },
     "execution_count": 14,
     "metadata": {},
     "output_type": "execute_result"
    }
   ],
   "source": [
    "df['Review']"
   ]
  },
  {
   "cell_type": "code",
   "execution_count": 15,
   "metadata": {},
   "outputs": [],
   "source": [
    "from nltk import ngrams \n",
    "\n",
    "data = df['Review']\n",
    "n = 1   # For bigrams n=2, trigrams n=3,.... so on.\n",
    "count_words=[]\n",
    "\n",
    "for i in range(len(df['Review'])):\n",
    "    unigrams = ngrams(df['Review'][i].split(' '), n)\n",
    "    words_list=[]\n",
    "\n",
    "    for grams in unigrams:\n",
    "        #print(grams)\n",
    "        words_list.append(grams)\n",
    "        #print(words_list)\n",
    "    \n",
    "    l = len(words_list)\n",
    "    count_words.append(l)    \n",
    "    \n",
    "df['word_count'] = count_words  # Creating a new feature 'word_count' for each review"
   ]
  },
  {
   "cell_type": "code",
   "execution_count": 16,
   "metadata": {},
   "outputs": [
    {
     "data": {
      "text/html": [
       "<div>\n",
       "<style scoped>\n",
       "    .dataframe tbody tr th:only-of-type {\n",
       "        vertical-align: middle;\n",
       "    }\n",
       "\n",
       "    .dataframe tbody tr th {\n",
       "        vertical-align: top;\n",
       "    }\n",
       "\n",
       "    .dataframe thead th {\n",
       "        text-align: right;\n",
       "    }\n",
       "</style>\n",
       "<table border=\"1\" class=\"dataframe\">\n",
       "  <thead>\n",
       "    <tr style=\"text-align: right;\">\n",
       "      <th></th>\n",
       "      <th>ReviewID</th>\n",
       "      <th>sentiment</th>\n",
       "      <th>word_count</th>\n",
       "    </tr>\n",
       "  </thead>\n",
       "  <tbody>\n",
       "    <tr>\n",
       "      <th>count</th>\n",
       "      <td>8.500000e+01</td>\n",
       "      <td>85.000000</td>\n",
       "      <td>85.000000</td>\n",
       "    </tr>\n",
       "    <tr>\n",
       "      <th>mean</th>\n",
       "      <td>1.000000e+08</td>\n",
       "      <td>0.193779</td>\n",
       "      <td>19.270588</td>\n",
       "    </tr>\n",
       "    <tr>\n",
       "      <th>std</th>\n",
       "      <td>1.246536e+01</td>\n",
       "      <td>0.483322</td>\n",
       "      <td>12.418677</td>\n",
       "    </tr>\n",
       "    <tr>\n",
       "      <th>min</th>\n",
       "      <td>1.000000e+08</td>\n",
       "      <td>-1.000000</td>\n",
       "      <td>6.000000</td>\n",
       "    </tr>\n",
       "    <tr>\n",
       "      <th>25%</th>\n",
       "      <td>1.000000e+08</td>\n",
       "      <td>-0.175000</td>\n",
       "      <td>12.000000</td>\n",
       "    </tr>\n",
       "    <tr>\n",
       "      <th>50%</th>\n",
       "      <td>1.000000e+08</td>\n",
       "      <td>0.216667</td>\n",
       "      <td>17.000000</td>\n",
       "    </tr>\n",
       "    <tr>\n",
       "      <th>75%</th>\n",
       "      <td>1.000000e+08</td>\n",
       "      <td>0.520833</td>\n",
       "      <td>23.000000</td>\n",
       "    </tr>\n",
       "    <tr>\n",
       "      <th>max</th>\n",
       "      <td>1.000000e+08</td>\n",
       "      <td>1.000000</td>\n",
       "      <td>89.000000</td>\n",
       "    </tr>\n",
       "  </tbody>\n",
       "</table>\n",
       "</div>"
      ],
      "text/plain": [
       "           ReviewID  sentiment  word_count\n",
       "count  8.500000e+01  85.000000   85.000000\n",
       "mean   1.000000e+08   0.193779   19.270588\n",
       "std    1.246536e+01   0.483322   12.418677\n",
       "min    1.000000e+08  -1.000000    6.000000\n",
       "25%    1.000000e+08  -0.175000   12.000000\n",
       "50%    1.000000e+08   0.216667   17.000000\n",
       "75%    1.000000e+08   0.520833   23.000000\n",
       "max    1.000000e+08   1.000000   89.000000"
      ]
     },
     "execution_count": 16,
     "metadata": {},
     "output_type": "execute_result"
    }
   ],
   "source": [
    "df.describe()"
   ]
  },
  {
   "cell_type": "markdown",
   "metadata": {},
   "source": [
    "### Visualization for analysis"
   ]
  },
  {
   "cell_type": "code",
   "execution_count": 17,
   "metadata": {},
   "outputs": [],
   "source": [
    "import matplotlib.pyplot as plt\n",
    "import seaborn as sns"
   ]
  },
  {
   "cell_type": "code",
   "execution_count": 18,
   "metadata": {},
   "outputs": [
    {
     "data": {
      "text/plain": [
       "<function matplotlib.pyplot.show(close=None, block=None)>"
      ]
     },
     "execution_count": 18,
     "metadata": {},
     "output_type": "execute_result"
    },
    {
     "data": {
      "image/png": "[encoded data removed]",
      "text/plain": [
       "<Figure size 1500x500 with 4 Axes>"
      ]
     },
     "metadata": {},
     "output_type": "display_data"
    }
   ],
   "source": [
    "fig, axes = plt.subplots(1,3, figsize = (15,5))\n",
    "q1 = df['word_count'].quantile(0.25)\n",
    "q3 = df['word_count'].quantile(0.75)\n",
    "IQR= q3-q1\n",
    "lower_bound = q1-1.5*IQR\n",
    "upper_bound = q3+1.5*IQR\n",
    "df_clean = df[(df['word_count']>=lower_bound)&(df['word_count']<=upper_bound)]\n",
    "df_clean.reset_index(inplace=True, drop=True)\n",
    "\n",
    "sns.scatterplot(data=df_clean, x= 'sentiment_result', y='sentiment', ax= axes[0])\n",
    "sns.boxplot(data= df_clean, x = 'sentiment_result', y = 'word_count', ax= axes[1])\n",
    "sns.heatmap(data= df_clean[['sentiment', 'word_count']].corr(), vmin=-1, vmax=1, cmap='coolwarm', annot=True, square=True, ax= axes[2])\n",
    "\n",
    "plt.tight_layout()\n",
    "plt.show"
   ]
  },
  {
   "cell_type": "code",
   "execution_count": 19,
   "metadata": {},
   "outputs": [
    {
     "data": {
      "text/plain": [
       "<function matplotlib.pyplot.show(close=None, block=None)>"
      ]
     },
     "execution_count": 19,
     "metadata": {},
     "output_type": "execute_result"
    },
    {
     "data": {
      "image/png": "[encoded data removed]",
      "text/plain": [
       "<Figure size 1000x500 with 3 Axes>"
      ]
     },
     "metadata": {},
     "output_type": "display_data"
    }
   ],
   "source": [
    "fig, axes = plt.subplots(1,3, figsize = (10,5))\n",
    "\n",
    "sns.histplot(data= df_clean['sentiment'], ax= axes[0])\n",
    "sns.barplot(data= df_clean['ProductID'],ax= axes[1])\n",
    "sns.boxplot(data= df_clean, x = 'sentiment', y = 'ProductID', ax= axes[2])\n",
    "\n",
    "#sns.heatmap(data= df[['sentiment', 'word_count']].corr(), vmin=-1, vmax=1, cmap='coolwarm', annot=True, square=True, ax= axes[1])\n",
    "\n",
    "plt.tight_layout()\n",
    "plt.show"
   ]
  },
  {
   "cell_type": "markdown",
   "metadata": {},
   "source": [
    "## EXTRA:"
   ]
  },
  {
   "cell_type": "markdown",
   "metadata": {},
   "source": [
    "Trying to do the ngram without using the library"
   ]
  },
  {
   "cell_type": "code",
   "execution_count": null,
   "metadata": {},
   "outputs": [],
   "source": [
    "data = df['Review']\n",
    "def ngrams(input):\n",
    "    n= len(df['Review'])\n",
    "    for i in range(n):\n",
    "        var = input[i].split(' ')\n",
    "        #print(var)\n",
    "        output = []\n",
    "        for j in range(len(var)+1):\n",
    "            #output.append(var[j:])\n",
    "            #print(output)\n",
    "            g = ' '.join(var[j:j+1])\n",
    "            output.setdefault(g, 0)\n",
    "            output[g] += 1\n",
    "        return output\n",
    "    \n",
    "\n",
    "ngrams(data)\n",
    "\n"
   ]
  }
 ],
 "metadata": {
  "kernelspec": {
   "display_name": "Python 3",
   "language": "python",
   "name": "python3"
  },
  "language_info": {
   "codemirror_mode": {
    "name": "ipython",
    "version": 3
   },
   "file_extension": ".py",
   "mimetype": "text/x-python",
   "name": "python",
   "nbconvert_exporter": "python",
   "pygments_lexer": "ipython3",
   "version": "3.11.9"
  }
 },
 "nbformat": 4,
 "nbformat_minor": 2
}
